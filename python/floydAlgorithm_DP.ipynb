{
 "cells": [
  {
   "cell_type": "code",
   "execution_count": 1,
   "metadata": {},
   "outputs": [],
   "source": [
    "import numpy as np"
   ]
  },
  {
   "cell_type": "code",
   "execution_count": 2,
   "metadata": {},
   "outputs": [],
   "source": [
    "def conv(val):\n",
    "    try:\n",
    "        return float(val)\n",
    "    except:\n",
    "        pass\n",
    "    return np.Infinity"
   ]
  },
  {
   "cell_type": "code",
   "execution_count": 6,
   "metadata": {},
   "outputs": [],
   "source": [
    "adjmat = np.loadtxt('C:/Users/Davido/source/repos/GraphAlgorithms/Files/adjmat01.txt', delimiter=',', converters=conv)\n",
    "assert adjmat.shape[0]==adjmat.shape[1] \n",
    "V = adjmat.shape[0]"
   ]
  },
  {
   "cell_type": "code",
   "execution_count": null,
   "metadata": {},
   "outputs": [],
   "source": [
    "for k in range(V):\n",
    "    for i in range(V):\n",
    "        for j in range(V):\n",
    "            adjmat[i][j] = min(adjmat[i][j], adjmat[i][k] + adjmat[k][j])"
   ]
  }
 ],
 "metadata": {
  "kernelspec": {
   "display_name": "Python 3",
   "language": "python",
   "name": "python3"
  },
  "language_info": {
   "codemirror_mode": {
    "name": "ipython",
    "version": 3
   },
   "file_extension": ".py",
   "mimetype": "text/x-python",
   "name": "python",
   "nbconvert_exporter": "python",
   "pygments_lexer": "ipython3",
   "version": "3.8.10"
  }
 },
 "nbformat": 4,
 "nbformat_minor": 2
}
